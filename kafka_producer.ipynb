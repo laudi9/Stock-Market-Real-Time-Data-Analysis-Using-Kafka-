{
 "cells": [
  {
   "cell_type": "code",
   "execution_count": null,
   "id": "d1472574-5db6-43e4-9a8b-3caaa7755aa3",
   "metadata": {},
   "outputs": [],
   "source": [
    "# Import the necessary libraries\n",
    "import pandas as pd\n",
    "from kafka import KafkaProducer, KafkaConsumer\n",
    "from time import sleep\n",
    "from json import dumps\n",
    "import json\n",
    "\n",
    "# Set up Kafka producer configuration\n",
    "producer = KafkaProducer(bootstrap_servers=[':9092'], # change IP here\n",
    "                        value_serializer=lambda x:\n",
    "                        dumps(x).encode('utf-8'))\n",
    "\n",
    "# Send a simple message to the Kafka topic 'demo_testing2'\n",
    "producer.send('demo_testing2', value=\"{'hello':'world'}\")\n",
    "\n",
    "# Read data from a CSV file into a pandas DataFrame\n",
    "df = pd.read_csv('/Users/user/Documents/project_3/indexProcessed.csv')\n",
    "\n",
    "# Display the first few rows of the DataFrame\n",
    "df.head()\n",
    "\n",
    "# Continuously send randomly sampled rows from the DataFrame to Kafka topic 'demo_testing2'\n",
    "while True:\n",
    "    # Sample one row from the DataFrame and convert it to a dictionary\n",
    "    dict_stock = df.sample(1).to_dict(orient='records')[0]\n",
    "    \n",
    "    # Send the sampled dictionary to the Kafka topic\n",
    "    producer.send('demo_testing2', value=dict_stock)\n",
    "    \n",
    "    # Pause for 1 second before sending the next message\n",
    "    sleep(1)\n",
    "\n",
    "# Flush any remaining messages in the Kafka producer\n",
    "producer.flush()"
   ]
  }
 ],
 "metadata": {
  "kernelspec": {
   "display_name": "Python 3 (ipykernel)",
   "language": "python",
   "name": "python3"
  },
  "language_info": {
   "codemirror_mode": {
    "name": "ipython",
    "version": 3
   },
   "file_extension": ".py",
   "mimetype": "text/x-python",
   "name": "python",
   "nbconvert_exporter": "python",
   "pygments_lexer": "ipython3",
   "version": "3.11.4"
  }
 },
 "nbformat": 4,
 "nbformat_minor": 5
}

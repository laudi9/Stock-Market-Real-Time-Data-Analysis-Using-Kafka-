{
 "cells": [
  {
   "cell_type": "code",
   "execution_count": null,
   "id": "90f71066-1662-49c5-98b7-86663fe02d5d",
   "metadata": {},
   "outputs": [],
   "source": [
    "# Import required libraries\n",
    "import pandas as pd\n",
    "from kafka import KafkaConsumer\n",
    "from time import sleep\n",
    "from json import dumps, loads\n",
    "import json\n",
    "from s3fs import S3FileSystem\n",
    "\n",
    "# Create a Kafka consumer instance\n",
    "consumer = KafkaConsumer(\n",
    "    'demo_testing2',  # Topic to subscribe to\n",
    "    bootstrap_servers=[':9092'],  # change IP here\n",
    "    value_deserializer=lambda x: loads(x.decode('utf-8'))  # Deserialize message value\n",
    ")\n",
    "\n",
    "# Consume messages from Kafka topic and print their values\n",
    "for c in consumer:\n",
    "    print(c.value)\n",
    "\n",
    "# Create an S3FileSystem instance\n",
    "s3 = S3FileSystem()\n",
    "\n",
    "# Consume messages from Kafka topic and save them to S3 as JSON files\n",
    "for count, i in enumerate(consumer):\n",
    "    # Construct the S3 object path for storing the JSON file\n",
    "    s3_object_path = 's3://kafka-stock-market-project-3/stock_market_{}.json'.format(count)\n",
    "    \n",
    "    # Open the S3 object and write the JSON data to it\n",
    "    with s3.open(s3_object_path, 'w') as file:\n",
    "        json.dump(i.value, file)"
   ]
  }
 ],
 "metadata": {
  "kernelspec": {
   "display_name": "Python 3 (ipykernel)",
   "language": "python",
   "name": "python3"
  },
  "language_info": {
   "codemirror_mode": {
    "name": "ipython",
    "version": 3
   },
   "file_extension": ".py",
   "mimetype": "text/x-python",
   "name": "python",
   "nbconvert_exporter": "python",
   "pygments_lexer": "ipython3",
   "version": "3.11.4"
  }
 },
 "nbformat": 4,
 "nbformat_minor": 5
}
